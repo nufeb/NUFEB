{
 "cells": [
  {
   "cell_type": "code",
   "execution_count": 173,
   "metadata": {},
   "outputs": [],
   "source": [
    "import cv2 # for generating images to compare to the jpg dumps. main use case to verify visually I understand hdf5\n",
    "from matplotlib import pyplot as plt  #display images notebook\n",
    "import numpy as np\n",
    "import h5py\n",
    "import pandas as pd\n",
    "from scipy.integrate import odeint\n",
    "from glob import glob\n",
    "import pickle\n",
    "from sklearn.linear_model import LinearRegression\n",
    "from scipy.signal import find_peaks\n",
    "import seaborn as sns\n",
    "f = h5py.File(r'C:\\Users\\jonat\\Documents\\runs\\Run_11_45_29_1\\trajectory.h5', 'r')\n",
    "#print(list(f.keys()))"
   ]
  },
  {
   "cell_type": "code",
   "execution_count": 43,
   "metadata": {},
   "outputs": [
    {
     "name": "stdout",
     "output_type": "stream",
     "text": [
      "308\n"
     ]
    }
   ],
   "source": [
    "timepoints = [k for k in f['concentration']['co2'].keys()]\n",
    "timepoints.sort(key=int)\n",
    "dims = f['concentration']['co2']['0'].shape\n",
    "numsteps = len(timepoints)\n",
    "print(numsteps)"
   ]
  },
  {
   "cell_type": "code",
   "execution_count": null,
   "metadata": {},
   "outputs": [],
   "source": []
  },
  {
   "cell_type": "code",
   "execution_count": 33,
   "metadata": {},
   "outputs": [
    {
     "name": "stdout",
     "output_type": "stream",
     "text": [
      "radius0\n",
      "radius100\n",
      "radius1000\n",
      "radius10000\n",
      "radius10100\n",
      "radius10200\n",
      "radius10300\n",
      "radius10400\n",
      "radius10500\n",
      "radius10600\n",
      "radius10700\n",
      "radius10800\n",
      "radius10900\n",
      "radius1100\n",
      "radius11000\n",
      "radius11100\n",
      "radius11200\n",
      "radius11300\n",
      "radius11400\n",
      "radius11500\n",
      "radius11600\n",
      "radius11700\n",
      "radius11800\n",
      "radius11900\n",
      "radius1200\n",
      "radius12000\n",
      "radius12100\n",
      "radius12200\n",
      "radius12300\n",
      "radius12400\n",
      "radius12500\n",
      "radius12600\n",
      "radius12700\n",
      "radius12800\n",
      "radius12900\n",
      "radius1300\n",
      "radius13000\n",
      "radius13100\n",
      "radius13200\n",
      "radius13300\n",
      "radius13400\n",
      "radius13500\n",
      "radius13600\n",
      "radius13700\n",
      "radius13800\n",
      "radius13900\n",
      "radius1400\n",
      "radius14000\n",
      "radius14100\n",
      "radius14200\n",
      "radius14300\n",
      "radius14400\n",
      "radius14500\n",
      "radius14600\n",
      "radius14700\n",
      "radius14800\n",
      "radius14900\n",
      "radius1500\n",
      "radius15000\n",
      "radius15100\n",
      "radius15200\n",
      "radius15300\n",
      "radius15400\n",
      "radius15500\n",
      "radius15600\n",
      "radius15700\n",
      "radius15800\n",
      "radius15900\n",
      "radius1600\n",
      "radius16000\n",
      "radius16100\n",
      "radius16200\n",
      "radius16300\n",
      "radius16400\n",
      "radius16500\n",
      "radius16600\n",
      "radius16700\n",
      "radius16800\n",
      "radius16900\n",
      "radius1700\n",
      "radius17000\n",
      "radius17100\n",
      "radius17200\n",
      "radius17300\n",
      "radius17400\n",
      "radius17500\n",
      "radius17600\n",
      "radius17700\n",
      "radius17800\n",
      "radius17900\n",
      "radius1800\n",
      "radius18000\n",
      "radius18100\n",
      "radius18200\n",
      "radius18300\n",
      "radius18400\n",
      "radius18500\n",
      "radius18600\n",
      "radius18700\n",
      "radius18800\n",
      "radius18900\n",
      "radius1900\n",
      "radius19000\n",
      "radius19100\n",
      "radius19200\n",
      "radius19300\n",
      "radius19400\n",
      "radius19500\n",
      "radius19600\n",
      "radius19700\n",
      "radius19800\n",
      "radius19900\n",
      "radius200\n",
      "radius2000\n",
      "radius20000\n",
      "radius20100\n",
      "radius20200\n",
      "radius20300\n",
      "radius20400\n",
      "radius20500\n",
      "radius20600\n",
      "radius20700\n",
      "radius20800\n",
      "radius20900\n",
      "radius2100\n",
      "radius21000\n",
      "radius21100\n",
      "radius21200\n",
      "radius21300\n",
      "radius21400\n",
      "radius21500\n",
      "radius21600\n",
      "radius21700\n",
      "radius21800\n",
      "radius21900\n",
      "radius2200\n",
      "radius22000\n",
      "radius22100\n",
      "radius22200\n",
      "radius22300\n",
      "radius22400\n",
      "radius22500\n",
      "radius22600\n",
      "radius22700\n",
      "radius22800\n",
      "radius22900\n",
      "radius2300\n",
      "radius23000\n",
      "radius23100\n",
      "radius23200\n",
      "radius23300\n",
      "radius23400\n",
      "radius23500\n",
      "radius23600\n",
      "radius23700\n",
      "radius23800\n",
      "radius23900\n",
      "radius2400\n",
      "radius24000\n",
      "radius24100\n",
      "radius24200\n",
      "radius24300\n",
      "radius24400\n",
      "radius24500\n",
      "radius24600\n",
      "radius24700\n",
      "radius24800\n",
      "radius24900\n",
      "radius2500\n",
      "radius25000\n",
      "radius25100\n",
      "radius25200\n",
      "radius25300\n",
      "radius25400\n",
      "radius25500\n",
      "radius25600\n",
      "radius25700\n",
      "radius25800\n",
      "radius25900\n",
      "radius2600\n",
      "radius26000\n",
      "radius26100\n",
      "radius26200\n",
      "radius26300\n",
      "radius26400\n",
      "radius26500\n",
      "radius26600\n",
      "radius26700\n",
      "radius26800\n",
      "radius26900\n",
      "radius2700\n",
      "radius27000\n",
      "radius27100\n",
      "radius27200\n",
      "radius27300\n",
      "radius27400\n",
      "radius27500\n",
      "radius27600\n",
      "radius27700\n",
      "radius27800\n",
      "radius27900\n",
      "radius2800\n",
      "radius28000\n",
      "radius28100\n",
      "radius28200\n",
      "radius28300\n",
      "radius28400\n",
      "radius28500\n",
      "radius28600\n",
      "radius28700\n",
      "radius28800\n",
      "radius28900\n",
      "radius2900\n",
      "radius29000\n",
      "radius29100\n",
      "radius29200\n",
      "radius29300\n",
      "radius29400\n",
      "radius29500\n",
      "radius29600\n",
      "radius29700\n",
      "radius29800\n",
      "radius29900\n",
      "radius300\n",
      "radius3000\n",
      "radius30000\n",
      "radius30100\n",
      "radius30200\n",
      "radius30300\n",
      "radius30400\n",
      "radius30500\n",
      "radius30600\n",
      "radius30700\n",
      "radius3100\n",
      "radius3200\n",
      "radius3300\n",
      "radius3400\n",
      "radius3500\n",
      "radius3600\n",
      "radius3700\n",
      "radius3800\n",
      "radius3900\n",
      "radius400\n",
      "radius4000\n",
      "radius4100\n",
      "radius4200\n",
      "radius4300\n",
      "radius4400\n",
      "radius4500\n",
      "radius4600\n",
      "radius4700\n",
      "radius4800\n",
      "radius4900\n",
      "radius500\n",
      "radius5000\n",
      "radius5100\n",
      "radius5200\n",
      "radius5300\n",
      "radius5400\n",
      "radius5500\n",
      "radius5600\n",
      "radius5700\n",
      "radius5800\n",
      "radius5900\n",
      "radius600\n",
      "radius6000\n",
      "radius6100\n",
      "radius6200\n",
      "radius6300\n",
      "radius6400\n",
      "radius6500\n",
      "radius6600\n",
      "radius6700\n",
      "radius6800\n",
      "radius6900\n",
      "radius700\n",
      "radius7000\n",
      "radius7100\n",
      "radius7200\n",
      "radius7300\n",
      "radius7400\n",
      "radius7500\n",
      "radius7600\n",
      "radius7700\n",
      "radius7800\n",
      "radius7900\n",
      "radius800\n",
      "radius8000\n",
      "radius8100\n",
      "radius8200\n",
      "radius8300\n",
      "radius8400\n",
      "radius8500\n",
      "radius8600\n",
      "radius8700\n",
      "radius8800\n",
      "radius8900\n",
      "radius900\n",
      "radius9000\n",
      "radius9100\n",
      "radius9200\n",
      "radius9300\n",
      "radius9400\n",
      "radius9500\n",
      "radius9600\n",
      "radius9700\n",
      "radius9800\n",
      "radius9900\n"
     ]
    }
   ],
   "source": [
    "# generate the appropriate key for a radius at a given timestep\n",
    "def radius_key(timestep):\n",
    "    return(f\"radius{timestep}\")\n",
    "# example\n",
    "ts='1000'\n",
    "radius_key(ts)\n",
    "\n",
    "#generate all radius keys\n",
    "for k in f['id'].keys():\n",
    "    print(radius_key(k))\n",
    "#let's look at a specific timestep\n",
    "\n",
    "\n",
    "# radius\n",
    "r1100 =f[radius_key(ts)]\n",
    "\n",
    "# xyz\n",
    "x=f['x'][ts]\n",
    "y=f['y'][ts]\n",
    "z=f['z'][ts]\n",
    "\n",
    "#id\n",
    "id=f['id'][ts]\n",
    "types=f['type'][ts]"
   ]
  },
  {
   "cell_type": "code",
   "execution_count": null,
   "metadata": {},
   "outputs": [],
   "source": []
  },
  {
   "cell_type": "code",
   "execution_count": 38,
   "metadata": {},
   "outputs": [
    {
     "data": {
      "text/plain": [
       "array([[1.00995051e+02, 2.41743615e+02, 2.32317167e+01, 7.94651767e+00,\n",
       "        1.70000000e+01, 2.00000000e+00],\n",
       "       [3.70000000e+02, 1.29200000e+02, 5.58000000e+01, 9.63120159e+00,\n",
       "        3.00000000e+01, 2.00000000e+00],\n",
       "       [2.42000000e+02, 2.24000000e+02, 5.06000000e+01, 8.95781468e+00,\n",
       "        3.60000000e+01, 2.00000000e+00],\n",
       "       [9.55705484e+01, 2.38359689e+02, 5.69392608e+01, 7.47586319e+00,\n",
       "        5.70000000e+01, 2.00000000e+00],\n",
       "       [5.02000000e+02, 4.74000000e+02, 7.60000000e+01, 9.09684011e+00,\n",
       "        5.50000000e+01, 2.00000000e+00],\n",
       "       [2.86000000e+02, 1.76200000e+02, 1.29200000e+02, 1.91679270e+01,\n",
       "        4.00000000e+00, 1.00000000e+00],\n",
       "       [1.61600000e+02, 1.22400000e+02, 1.60200000e+02, 9.63143633e+00,\n",
       "        2.20000000e+01, 2.00000000e+00],\n",
       "       [2.38000000e+01, 4.34000000e+02, 1.71000000e+02, 9.63011363e+00,\n",
       "        3.80000000e+01, 2.00000000e+00],\n",
       "       [2.38000000e+02, 9.24000000e+02, 2.38000000e+01, 9.04975457e+00,\n",
       "        4.70000000e+01, 2.00000000e+00],\n",
       "       [6.34000000e+02, 6.66000000e+02, 5.92000000e+01, 8.95582516e+00,\n",
       "        4.60000000e+01, 2.00000000e+00],\n",
       "       [5.98000000e+02, 7.56000000e+02, 5.94000000e+01, 1.52711506e+01,\n",
       "        1.00000000e+01, 1.00000000e+00],\n",
       "       [7.60000000e+02, 6.48000000e+02, 6.02000000e+01, 9.34829469e+00,\n",
       "        5.00000000e+01, 2.00000000e+00],\n",
       "       [7.12000000e+02, 9.68000000e+02, 7.02000000e+01, 9.05738349e+00,\n",
       "        4.90000000e+01, 2.00000000e+00],\n",
       "       [4.16000000e+02, 5.28000000e+02, 1.37400000e+02, 8.86293021e+00,\n",
       "        4.10000000e+01, 2.00000000e+00],\n",
       "       [9.44000000e+02, 5.34000000e+02, 1.66600000e+02, 9.20927538e+00,\n",
       "        3.40000000e+01, 2.00000000e+00],\n",
       "       [6.02000000e+02, 7.14000000e+02, 1.68400000e+02, 8.42284883e+00,\n",
       "        3.50000000e+01, 2.00000000e+00],\n",
       "       [1.90200000e+02, 9.10000000e+02, 1.64000000e+02, 8.49824684e+00,\n",
       "        5.40000000e+01, 2.00000000e+00],\n",
       "       [5.60000000e+02, 1.06200000e+03, 3.22000000e+01, 8.85219137e+00,\n",
       "        4.40000000e+01, 2.00000000e+00],\n",
       "       [3.56000000e+02, 1.35200000e+03, 3.58000000e+01, 8.74898983e+00,\n",
       "        2.90000000e+01, 2.00000000e+00],\n",
       "       [4.50795051e+02, 1.37974361e+03, 4.08317167e+01, 7.94358174e+00,\n",
       "        3.10000000e+01, 2.00000000e+00],\n",
       "       [2.80000000e+02, 1.04000000e+03, 6.30000000e+01, 1.87466538e+01,\n",
       "        3.00000000e+00, 1.00000000e+00],\n",
       "       [4.45370548e+02, 1.37635969e+03, 7.45392608e+01, 7.47294660e+00,\n",
       "        5.80000000e+01, 2.00000000e+00],\n",
       "       [3.98000000e+02, 1.45200000e+03, 1.24800000e+02, 9.34690296e+00,\n",
       "        1.40000000e+01, 2.00000000e+00],\n",
       "       [5.36000000e+02, 1.16600000e+03, 1.42200000e+02, 9.53417056e+00,\n",
       "        2.30000000e+01, 2.00000000e+00],\n",
       "       [7.54000000e+02, 1.32800000e+03, 1.69800000e+02, 8.71081916e+00,\n",
       "        5.60000000e+01, 2.00000000e+00],\n",
       "       [5.08000000e+02, 1.30800000e+03, 1.74200000e+02, 8.87033677e+00,\n",
       "        2.10000000e+01, 2.00000000e+00],\n",
       "       [8.68000000e+02, 1.90000000e+03, 5.38000000e+01, 1.66402882e+01,\n",
       "        1.10000000e+01, 1.00000000e+00],\n",
       "       [5.90000000e+02, 1.86200000e+03, 7.54000000e+01, 1.44286044e+01,\n",
       "        8.00000000e+00, 1.00000000e+00],\n",
       "       [4.54000000e+02, 1.90800000e+03, 7.74000000e+01, 9.28259907e+00,\n",
       "        3.30000000e+01, 2.00000000e+00],\n",
       "       [9.32000000e+02, 1.61600000e+03, 8.54000000e+01, 8.30011561e+00,\n",
       "        4.50000000e+01, 2.00000000e+00],\n",
       "       [1.58000000e+03, 4.46000000e+02, 2.06000000e+01, 8.30668190e+00,\n",
       "        2.40000000e+01, 2.00000000e+00],\n",
       "       [1.90600000e+03, 2.88000000e+02, 4.16000000e+01, 8.99401903e+00,\n",
       "        2.70000000e+01, 2.00000000e+00],\n",
       "       [1.21200000e+03, 3.08000000e+02, 6.62000000e+01, 9.63539172e+00,\n",
       "        1.90000000e+01, 2.00000000e+00],\n",
       "       [1.51400000e+03, 4.30000000e+02, 9.02000000e+01, 8.93361797e+00,\n",
       "        2.60000000e+01, 2.00000000e+00],\n",
       "       [1.14400000e+03, 2.90000000e+02, 1.01600000e+02, 1.79041076e+01,\n",
       "        9.00000000e+00, 1.00000000e+00],\n",
       "       [1.54200000e+03, 7.50000000e+01, 1.30800000e+02, 8.35793233e+00,\n",
       "        5.30000000e+01, 2.00000000e+00],\n",
       "       [1.89552918e+03, 5.47294923e+01, 1.42951051e+02, 1.69382023e+01,\n",
       "        7.00000000e+00, 1.00000000e+00],\n",
       "       [1.42400000e+03, 3.04000000e+02, 1.44600000e+02, 1.45339226e+01,\n",
       "        2.00000000e+00, 1.00000000e+00],\n",
       "       [1.13600000e+03, 5.18000000e+01, 1.57000000e+02, 1.65349700e+01,\n",
       "        6.00000000e+00, 1.00000000e+00],\n",
       "       [1.89265419e+03, 7.66710732e+01, 1.65980153e+02, 1.48581289e+01,\n",
       "        6.00000000e+01, 1.00000000e+00],\n",
       "       [1.43400000e+03, 1.35000000e+02, 1.62600000e+02, 1.72721979e+01,\n",
       "        5.00000000e+00, 1.00000000e+00],\n",
       "       [1.27600000e+03, 7.00000000e+02, 5.94000000e+01, 9.17115809e+00,\n",
       "        4.00000000e+01, 2.00000000e+00],\n",
       "       [1.87400000e+03, 6.24000000e+02, 6.76000000e+01, 1.93785635e+01,\n",
       "        1.00000000e+00, 1.00000000e+00],\n",
       "       [1.77600000e+03, 9.64000000e+02, 7.18000000e+01, 9.21677766e+00,\n",
       "        4.20000000e+01, 2.00000000e+00],\n",
       "       [1.63800000e+03, 9.72000000e+02, 7.44000000e+01, 9.62747689e+00,\n",
       "        2.50000000e+01, 2.00000000e+00],\n",
       "       [1.61600000e+03, 9.10000000e+02, 8.70000000e+01, 9.44140537e+00,\n",
       "        2.00000000e+01, 2.00000000e+00],\n",
       "       [1.60400000e+03, 6.64000000e+02, 1.49800000e+02, 8.56575014e+00,\n",
       "        4.30000000e+01, 2.00000000e+00],\n",
       "       [1.95000000e+03, 1.08800000e+03, 2.88000000e+01, 9.04754355e+00,\n",
       "        3.90000000e+01, 2.00000000e+00],\n",
       "       [1.40800000e+03, 1.45600000e+03, 2.38000000e+01, 8.35424449e+00,\n",
       "        2.80000000e+01, 2.00000000e+00],\n",
       "       [1.78600000e+03, 1.14800000e+03, 1.58800000e+02, 8.35538961e+00,\n",
       "        1.20000000e+01, 2.00000000e+00],\n",
       "       [1.24400000e+03, 1.60800000e+03, 2.02000000e+01, 9.34544013e+00,\n",
       "        5.10000000e+01, 2.00000000e+00],\n",
       "       [1.53200000e+03, 1.89400000e+03, 3.70000000e+01, 9.43806341e+00,\n",
       "        1.80000000e+01, 2.00000000e+00],\n",
       "       [1.20000000e+03, 1.59000000e+03, 4.52000000e+01, 8.78494122e+00,\n",
       "        1.30000000e+01, 2.00000000e+00],\n",
       "       [1.22600000e+03, 1.69000000e+03, 4.14000000e+01, 8.91595244e+00,\n",
       "        5.20000000e+01, 2.00000000e+00],\n",
       "       [1.73279505e+03, 1.92574361e+03, 5.92317167e+01, 7.94124841e+00,\n",
       "        3.20000000e+01, 2.00000000e+00],\n",
       "       [1.06000000e+03, 1.48800000e+03, 9.12000000e+01, 9.06551199e+00,\n",
       "        3.70000000e+01, 2.00000000e+00],\n",
       "       [1.72737055e+03, 1.92235969e+03, 9.29392608e+01, 7.47075154e+00,\n",
       "        5.90000000e+01, 2.00000000e+00],\n",
       "       [1.28000000e+03, 1.89000000e+03, 1.09000000e+02, 9.53297142e+00,\n",
       "        4.80000000e+01, 2.00000000e+00],\n",
       "       [1.87000000e+03, 1.77400000e+03, 1.10800000e+02, 9.30680520e+00,\n",
       "        1.60000000e+01, 2.00000000e+00],\n",
       "       [1.49800000e+03, 1.94800000e+03, 1.51800000e+02, 8.98965776e+00,\n",
       "        1.50000000e+01, 2.00000000e+00]])"
      ]
     },
     "execution_count": 38,
     "metadata": {},
     "output_type": "execute_result"
    }
   ],
   "source": [
    "# create a numpy array based on the extracted coordinates, radii, and ids for cells at the given timestep\n",
    "# should be 4 columns by 3 rows here\n",
    "\n",
    "cells = np.column_stack((x,y,z,r1100,id,types))\n",
    "\n",
    "# scale x,y,z and raidius coordinates\n",
    "px_pm = 2e7  #px per meter\n",
    "cells[:,0:4] *= px_pm  \n",
    "#note this updates cells in place, so re-running this block without re-creating the cells array is a Bad Thing\n",
    "cells"
   ]
  },
  {
   "cell_type": "code",
   "execution_count": 39,
   "metadata": {},
   "outputs": [
    {
     "data": {
      "text/plain": [
       "<matplotlib.image.AxesImage at 0x232b5e1b880>"
      ]
     },
     "execution_count": 39,
     "metadata": {},
     "output_type": "execute_result"
    },
    {
     "data": {
      "image/png": "[encoded data removed]",
      "text/plain": [
       "<Figure size 432x288 with 1 Axes>"
      ]
     },
     "metadata": {
      "needs_background": "light"
     },
     "output_type": "display_data"
    }
   ],
   "source": [
    "# determine image size, pad by largest radius + 20 %\n",
    "im_padding  = max(cells[:,3])*1.2\n",
    "im_width = int(max(cells[:,0]) + im_padding)\n",
    "im_height= int(max(cells[:,1]) + im_padding)\n",
    "# generate a blank image with the calculated dimensions and draw cells on it\n",
    "# for comparing between timesteps probably just want to use the max x/y coords from all steps\n",
    "blank_image = np.ones((im_height,im_width,3), np.uint8)\n",
    "\n",
    "\n",
    "plt.imshow(blank_image)\n",
    "\n",
    "            \n",
    "def showcell(loc,rad,color):\n",
    "    cv2.circle(blank_image, loc,rad,color,-1)\n",
    "green = (44,162,95)\n",
    "red = (222,45,38)\n",
    "\n",
    "for cell in cells:\n",
    "    xy_coord = (int(cell[0]),int(cell[1]))\n",
    "    radius = int(cell[3])\n",
    "    if cell[5]==1:\n",
    "        color = green\n",
    "    elif cell[5] ==2:\n",
    "        color = red\n",
    "    showcell(xy_coord,radius,color)\n",
    "\n",
    "\n",
    "plt.imshow(blank_image)"
   ]
  },
  {
   "cell_type": "code",
   "execution_count": 99,
   "metadata": {},
   "outputs": [
    {
     "name": "stdout",
     "output_type": "stream",
     "text": [
      "17\n",
      "30\n",
      "36\n",
      "55\n",
      "4\n",
      "22\n",
      "38\n",
      "47\n",
      "46\n",
      "10\n",
      "50\n",
      "49\n",
      "41\n",
      "34\n",
      "35\n",
      "54\n",
      "44\n",
      "29\n",
      "31\n",
      "3\n",
      "14\n",
      "23\n",
      "56\n",
      "21\n",
      "11\n",
      "8\n",
      "33\n",
      "45\n",
      "24\n",
      "27\n",
      "19\n",
      "26\n",
      "9\n",
      "53\n",
      "2\n",
      "6\n",
      "7\n",
      "5\n",
      "40\n",
      "1\n",
      "42\n",
      "25\n",
      "20\n",
      "43\n",
      "39\n",
      "28\n",
      "12\n",
      "51\n",
      "18\n",
      "13\n",
      "52\n",
      "32\n",
      "37\n",
      "48\n",
      "16\n",
      "15\n"
     ]
    }
   ],
   "source": [
    "ids = f['id']['0']\n",
    "for i in ids:\n",
    "    print(i)"
   ]
  },
  {
   "cell_type": "code",
   "execution_count": null,
   "metadata": {},
   "outputs": [],
   "source": []
  },
  {
   "cell_type": "code",
   "execution_count": 104,
   "metadata": {},
   "outputs": [
    {
     "name": "stdout",
     "output_type": "stream",
     "text": [
      "17 4.735e-07\n",
      "30 4.805e-07\n",
      "36 7.85e-07\n",
      "55 4.98e-07\n",
      "4 4.865e-07\n",
      "22 5.1e-07\n",
      "38 8.2e-07\n",
      "47 4.47e-07\n",
      "46 4.47e-07\n",
      "10 7.25e-07\n",
      "50 4.7e-07\n",
      "49 5.05e-07\n",
      "41 4.93e-07\n",
      "34 4.465e-07\n",
      "35 6.9e-07\n",
      "54 5.1e-07\n",
      "44 4.58e-07\n",
      "29 4.44e-07\n",
      "31 5.15e-07\n",
      "3 4.79e-07\n",
      "14 4.925e-07\n",
      "23 4.66e-07\n",
      "56 4.81e-07\n",
      "21 5e-07\n",
      "11 5e-07\n",
      "8 4.84e-07\n",
      "33 8.5e-07\n",
      "45 4.84e-07\n",
      "24 4.745e-07\n",
      "27 4.965e-07\n",
      "19 5.2e-07\n",
      "26 6.85e-07\n",
      "9 4.79e-07\n",
      "53 4.85e-07\n",
      "2 5.15e-07\n",
      "6 5.15e-07\n",
      "7 5.15e-07\n",
      "5 9.1e-07\n",
      "40 9.2e-07\n",
      "1 5.2e-07\n",
      "42 5.15e-07\n",
      "25 7.9e-07\n",
      "20 8.9e-07\n",
      "43 5.05e-07\n",
      "39 4.905e-07\n",
      "28 4.44e-07\n",
      "12 4.845e-07\n",
      "51 4.77e-07\n",
      "18 4.68e-07\n",
      "13 4.74e-07\n",
      "52 5.2e-07\n",
      "32 4.775e-07\n",
      "37 9.55e-07\n",
      "48 5e-07\n",
      "16 4.545e-07\n",
      "15 4.505e-07\n"
     ]
    }
   ],
   "source": [
    "for i in ids:\n",
    "    print(i,f[radius_key(t)][i-1])"
   ]
  },
  {
   "cell_type": "code",
   "execution_count": 153,
   "metadata": {},
   "outputs": [
    {
     "data": {
      "image/png": "[encoded data removed]",
      "text/plain": [
       "<Figure size 432x288 with 60 Axes>"
      ]
     },
     "metadata": {
      "needs_background": "light"
     },
     "output_type": "display_data"
    }
   ],
   "source": [
    "hrs = [int(x)/360 for x in timepoints]\n",
    "fig ,axes = plt.subplots(nrows=10,ncols=6,sharex=True,sharey=True)\n",
    "axs = axes.ravel()\n",
    "df = pd.DataFrame(columns=['id','type','time','diameter'])\n",
    "for i,c in enumerate(f['id']['0']):\n",
    "    rad = []\n",
    "    for t,h in zip(timepoints,hrs):\n",
    "        radius = f[radius_key(t)][c-1]\n",
    "        rad.append(2*f[radius_key(t)][c-1])\n",
    "        celltype=f['type'][t][c-1]\n",
    "        if celltype==1:\n",
    "            color = '#2ca25f'\n",
    "        elif celltype ==2:\n",
    "            color = '#de2d26'\n",
    "        df = df.append(pd.DataFrame([[c-1,celltype,h,radius*2]],columns=['id','type','time','diameter']),ignore_index=True)\n",
    "    axs[i].plot(rad,c=color)\n",
    "    #axs[i].set_title(f['type']['0'][c])\n",
    "for ax in axs:\n",
    "    ax.spines['right'].set_visible(False)\n",
    "    ax.spines['top'].set_visible(False)\n",
    "    ax.spines['left'].set_visible(False)\n",
    "    ax.set_axis_off()\n",
    "    #ax.spines['bottom'].set_visible(False)\n",
    "plt.show()\n",
    "fig.savefig('growthcurves.png',dpi=600)"
   ]
  },
  {
   "cell_type": "code",
   "execution_count": 129,
   "metadata": {},
   "outputs": [],
   "source": []
  },
  {
   "cell_type": "code",
   "execution_count": 140,
   "metadata": {},
   "outputs": [
    {
     "data": {
      "text/html": [
       "<div>\n",
       "<style scoped>\n",
       "    .dataframe tbody tr th:only-of-type {\n",
       "        vertical-align: middle;\n",
       "    }\n",
       "\n",
       "    .dataframe tbody tr th {\n",
       "        vertical-align: top;\n",
       "    }\n",
       "\n",
       "    .dataframe thead th {\n",
       "        text-align: right;\n",
       "    }\n",
       "</style>\n",
       "<table border=\"1\" class=\"dataframe\">\n",
       "  <thead>\n",
       "    <tr style=\"text-align: right;\">\n",
       "      <th></th>\n",
       "      <th>id</th>\n",
       "      <th>type</th>\n",
       "      <th>time</th>\n",
       "      <th>radius</th>\n",
       "    </tr>\n",
       "  </thead>\n",
       "  <tbody>\n",
       "    <tr>\n",
       "      <th>0</th>\n",
       "      <td>16</td>\n",
       "      <td>2</td>\n",
       "      <td>0.000000</td>\n",
       "      <td>4.735000e-07</td>\n",
       "    </tr>\n",
       "    <tr>\n",
       "      <th>1</th>\n",
       "      <td>16</td>\n",
       "      <td>2</td>\n",
       "      <td>0.277778</td>\n",
       "      <td>4.513385e-07</td>\n",
       "    </tr>\n",
       "    <tr>\n",
       "      <th>2</th>\n",
       "      <td>16</td>\n",
       "      <td>2</td>\n",
       "      <td>0.555556</td>\n",
       "      <td>4.482198e-07</td>\n",
       "    </tr>\n",
       "    <tr>\n",
       "      <th>3</th>\n",
       "      <td>16</td>\n",
       "      <td>2</td>\n",
       "      <td>0.833333</td>\n",
       "      <td>4.451459e-07</td>\n",
       "    </tr>\n",
       "    <tr>\n",
       "      <th>4</th>\n",
       "      <td>16</td>\n",
       "      <td>2</td>\n",
       "      <td>1.111111</td>\n",
       "      <td>4.421183e-07</td>\n",
       "    </tr>\n",
       "    <tr>\n",
       "      <th>...</th>\n",
       "      <td>...</td>\n",
       "      <td>...</td>\n",
       "      <td>...</td>\n",
       "      <td>...</td>\n",
       "    </tr>\n",
       "    <tr>\n",
       "      <th>17243</th>\n",
       "      <td>14</td>\n",
       "      <td>2</td>\n",
       "      <td>84.166667</td>\n",
       "      <td>3.894900e-07</td>\n",
       "    </tr>\n",
       "    <tr>\n",
       "      <th>17244</th>\n",
       "      <td>14</td>\n",
       "      <td>2</td>\n",
       "      <td>84.444444</td>\n",
       "      <td>3.915064e-07</td>\n",
       "    </tr>\n",
       "    <tr>\n",
       "      <th>17245</th>\n",
       "      <td>14</td>\n",
       "      <td>2</td>\n",
       "      <td>84.722222</td>\n",
       "      <td>3.935368e-07</td>\n",
       "    </tr>\n",
       "    <tr>\n",
       "      <th>17246</th>\n",
       "      <td>14</td>\n",
       "      <td>2</td>\n",
       "      <td>85.000000</td>\n",
       "      <td>3.955815e-07</td>\n",
       "    </tr>\n",
       "    <tr>\n",
       "      <th>17247</th>\n",
       "      <td>14</td>\n",
       "      <td>2</td>\n",
       "      <td>85.277778</td>\n",
       "      <td>3.976007e-07</td>\n",
       "    </tr>\n",
       "  </tbody>\n",
       "</table>\n",
       "<p>17248 rows × 4 columns</p>\n",
       "</div>"
      ],
      "text/plain": [
       "       id type       time        radius\n",
       "0      16    2   0.000000  4.735000e-07\n",
       "1      16    2   0.277778  4.513385e-07\n",
       "2      16    2   0.555556  4.482198e-07\n",
       "3      16    2   0.833333  4.451459e-07\n",
       "4      16    2   1.111111  4.421183e-07\n",
       "...    ..  ...        ...           ...\n",
       "17243  14    2  84.166667  3.894900e-07\n",
       "17244  14    2  84.444444  3.915064e-07\n",
       "17245  14    2  84.722222  3.935368e-07\n",
       "17246  14    2  85.000000  3.955815e-07\n",
       "17247  14    2  85.277778  3.976007e-07\n",
       "\n",
       "[17248 rows x 4 columns]"
      ]
     },
     "execution_count": 140,
     "metadata": {},
     "output_type": "execute_result"
    }
   ],
   "source": [
    "df"
   ]
  },
  {
   "cell_type": "code",
   "execution_count": 154,
   "metadata": {},
   "outputs": [
    {
     "data": {
      "image/png": "[encoded data removed]",
      "text/plain": [
       "<Figure size 432x288 with 1 Axes>"
      ]
     },
     "metadata": {
      "needs_background": "light"
     },
     "output_type": "display_data"
    }
   ],
   "source": [
    "#plot cell size vs time\n",
    "data = df[df.id==1].reset_index()\n",
    "plt.plot(data.time,data.diameter)\n",
    "for line in find_peaks(data.diameter):\n",
    "    plt.vlines(data.time[line],data.diameter.min(),data.diameter.max(),color='r',ls=':')"
   ]
  },
  {
   "cell_type": "code",
   "execution_count": 167,
   "metadata": {},
   "outputs": [],
   "source": [
    "pks,_ = find_peaks(data.diameter)"
   ]
  },
  {
   "cell_type": "code",
   "execution_count": 169,
   "metadata": {},
   "outputs": [
    {
     "data": {
      "text/plain": [
       "139"
      ]
     },
     "execution_count": 169,
     "metadata": {},
     "output_type": "execute_result"
    }
   ],
   "source": [
    "pks[0]"
   ]
  },
  {
   "cell_type": "code",
   "execution_count": 172,
   "metadata": {},
   "outputs": [
    {
     "data": {
      "image/png": "[encoded data removed]",
      "text/plain": [
       "<Figure size 432x288 with 1 Axes>"
      ]
     },
     "metadata": {
      "needs_background": "light"
     },
     "output_type": "display_data"
    },
    {
     "name": "stdout",
     "output_type": "stream",
     "text": [
      "4.280062037331498e-10\n"
     ]
    },
    {
     "data": {
      "image/png": "[encoded data removed]",
      "text/plain": [
       "<Figure size 432x288 with 1 Axes>"
      ]
     },
     "metadata": {
      "needs_background": "light"
     },
     "output_type": "display_data"
    },
    {
     "name": "stdout",
     "output_type": "stream",
     "text": [
      "4.351842630048328e-08\n"
     ]
    },
    {
     "data": {
      "image/png": "[encoded data removed]",
      "text/plain": [
       "<Figure size 432x288 with 1 Axes>"
      ]
     },
     "metadata": {
      "needs_background": "light"
     },
     "output_type": "display_data"
    },
    {
     "name": "stdout",
     "output_type": "stream",
     "text": [
      "4.7743556210799916e-08\n"
     ]
    },
    {
     "data": {
      "image/png": "[encoded data removed]",
      "text/plain": [
       "<Figure size 432x288 with 1 Axes>"
      ]
     },
     "metadata": {
      "needs_background": "light"
     },
     "output_type": "display_data"
    },
    {
     "name": "stdout",
     "output_type": "stream",
     "text": [
      "4.7767831529286024e-08\n"
     ]
    },
    {
     "data": {
      "image/png": "[encoded data removed]",
      "text/plain": [
       "<Figure size 432x288 with 1 Axes>"
      ]
     },
     "metadata": {
      "needs_background": "light"
     },
     "output_type": "display_data"
    },
    {
     "name": "stdout",
     "output_type": "stream",
     "text": [
      "4.998833914485214e-08\n"
     ]
    },
    {
     "data": {
      "image/png": "[encoded data removed]",
      "text/plain": [
       "<Figure size 432x288 with 1 Axes>"
      ]
     },
     "metadata": {
      "needs_background": "light"
     },
     "output_type": "display_data"
    },
    {
     "name": "stdout",
     "output_type": "stream",
     "text": [
      "3.918321475906666e-08\n"
     ]
    },
    {
     "data": {
      "image/png": "[encoded data removed]",
      "text/plain": [
       "<Figure size 432x288 with 1 Axes>"
      ]
     },
     "metadata": {
      "needs_background": "light"
     },
     "output_type": "display_data"
    },
    {
     "name": "stdout",
     "output_type": "stream",
     "text": [
      "2.093453816636646e-08\n"
     ]
    },
    {
     "data": {
      "image/png": "[encoded data removed]",
      "text/plain": [
       "<Figure size 432x288 with 1 Axes>"
      ]
     },
     "metadata": {
      "needs_background": "light"
     },
     "output_type": "display_data"
    },
    {
     "name": "stdout",
     "output_type": "stream",
     "text": [
      "1.7060902875606642e-08\n"
     ]
    },
    {
     "data": {
      "image/png": "[encoded data removed]",
      "text/plain": [
       "<Figure size 432x288 with 1 Axes>"
      ]
     },
     "metadata": {
      "needs_background": "light"
     },
     "output_type": "display_data"
    },
    {
     "name": "stdout",
     "output_type": "stream",
     "text": [
      "1.2983861695454073e-08\n"
     ]
    }
   ],
   "source": [
    "p0 = 0\n",
    "for p1 in pks:\n",
    "    #plt.plot(data.time[p0:p1],data.diameter[p0:p1])\n",
    "    #plt.show()\n",
    "    dt = data.time[p1]-data.time[p0]\n",
    "    dy = data.diameter[p1]-data.diameter[p0]\n",
    "    dydt = dy/dt\n",
    "    #print(dydt)\n",
    "    p0=p1+1"
   ]
  },
  {
   "cell_type": "code",
   "execution_count": 216,
   "metadata": {},
   "outputs": [],
   "source": [
    "divs = pd.DataFrame(columns=['id','division','rate'])\n",
    "cells = df.id.unique()\n",
    "#cells.sort()\n",
    "for cell in cells:\n",
    "    data = df[df.id==cell].reset_index()\n",
    "    if data.type.unique()[0] == 2:\n",
    "        pks,_ = find_peaks(data.diameter)\n",
    "        p0 = 0\n",
    "        for i,p1 in enumerate(pks):\n",
    "            #plt.plot(data.time[p0:p1],data.diameter[p0:p1])\n",
    "            #plt.show()\n",
    "            dt = data.time[p1]-data.time[p0]\n",
    "            dy = data.diameter[p1]-data.diameter[p0]\n",
    "            dydt = dy/dt\n",
    "            divs = divs.append(pd.DataFrame([[cell,i+1,dydt*24e6]],columns=['id','division','rate']),ignore_index=True)\n",
    "            #print(dydt)\n",
    "            p0=p1+1\n",
    "#plot cell id vs division rate over time\n",
    "piv = divs.pivot_table(index='id', columns='division', values='rate')\n",
    "g = sns.heatmap(piv, cmap='coolwarm',vmin=0)\n",
    "cbar = g.collections[0].colorbar\n",
    "cbar.ax.set_ylabel(r'Elongation rate ($\\frac{\\mu m}{hr}$)')"
   ]
  },
  {
   "cell_type": "code",
   "execution_count": 225,
   "metadata": {},
   "outputs": [
    {
     "data": {
      "text/plain": [
       "Text(379.57700000000006, 0.5, 'Elongation rate ($\\\\frac{\\\\mu m}{hr}$)')"
      ]
     },
     "execution_count": 225,
     "metadata": {},
     "output_type": "execute_result"
    },
    {
     "data": {
      "image/png": "[encoded data removed]",
      "text/plain": [
       "<Figure size 432x288 with 2 Axes>"
      ]
     },
     "metadata": {
      "needs_background": "light"
     },
     "output_type": "display_data"
    }
   ],
   "source": [
    "\n"
   ]
  },
  {
   "cell_type": "code",
   "execution_count": 211,
   "metadata": {},
   "outputs": [
    {
     "data": {
      "text/plain": [
       "2"
      ]
     },
     "execution_count": 211,
     "metadata": {},
     "output_type": "execute_result"
    }
   ],
   "source": [
    "#todo compare cyano vs e. coli growth rates\n",
    "#todo convert rate units to microns/hr or day\n",
    "#todo replot with growth rate distributed across all timepoints\n",
    "#todo check local nutrient concentration of highly fit cells\n",
    "#todo make animations with bounds around fit cells and compare with unfit cells\n"
   ]
  }
 ],
 "metadata": {
  "kernelspec": {
   "display_name": "Python 3",
   "language": "python",
   "name": "python3"
  },
  "language_info": {
   "codemirror_mode": {
    "name": "ipython",
    "version": 3
   },
   "file_extension": ".py",
   "mimetype": "text/x-python",
   "name": "python",
   "nbconvert_exporter": "python",
   "pygments_lexer": "ipython3",
   "version": "3.8.5"
  }
 },
 "nbformat": 4,
 "nbformat_minor": 4
}
